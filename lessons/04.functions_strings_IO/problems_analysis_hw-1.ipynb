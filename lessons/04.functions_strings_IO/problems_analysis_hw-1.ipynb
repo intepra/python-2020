{
 "cells": [
  {
   "cell_type": "markdown",
   "metadata": {
    "slideshow": {
     "slide_type": "slide"
    }
   },
   "source": [
    "<div class=\"alert alert-danger\">\n",
    "<b>Самое важное: </b> нужно писать все решения в подготовленных файлах, не нужно создавать своих дополнительных :)<br/>\n",
    "</div>"
   ]
  },
  {
   "cell_type": "markdown",
   "metadata": {
    "slideshow": {
     "slide_type": "fragment"
    }
   },
   "source": [
    "<div class=\"alert alert-danger\">\n",
    "<b>По стилю: </b> <br/>\n",
    "    1. безоговорочный PEP8 <br/>\n",
    "    2. snake_case (не CamelCase) <br/>\n",
    "    3. не использовать однобуквенные переменные<br/>\n",
    "    4. и вообще думать над названием каждой переменной и функции по их смыслу<br/>\n",
    "</div>"
   ]
  },
  {
   "cell_type": "markdown",
   "metadata": {
    "slideshow": {
     "slide_type": "subslide"
    }
   },
   "source": [
    "<div class=\"alert alert-danger\">\n",
    "<b>Антипаттерн: </b> код вне заданной функции <br/>\n",
    "</div>"
   ]
  },
  {
   "cell_type": "code",
   "execution_count": 5,
   "metadata": {
    "slideshow": {
     "slide_type": "fragment"
    }
   },
   "outputs": [
    {
     "name": "stdout",
     "output_type": "stream",
     "text": [
      "3.0\n"
     ]
    }
   ],
   "source": [
    "import numpy\n",
    "\n",
    "# вообще без функции\n",
    "numbers = [3, 1, 5]\n",
    "median = numpy.median(numbers)\n",
    "print(median)\n",
    "\n",
    "def get_middle_value(a: int, b: int, c: int) -> int:\n",
    "    \"\"\"\n",
    "    Takes three values and returns middle value\n",
    "    \"\"\"\n",
    "# так можно, но нужно всё равно функцию правильно сделать\n",
    "    return numpy.median(a, b, c)"
   ]
  },
  {
   "cell_type": "markdown",
   "metadata": {
    "slideshow": {
     "slide_type": "subslide"
    }
   },
   "source": [
    "<div class=\"alert alert-danger\">\n",
    "<b>Антипаттерн: </b> использование i, j не для индекса <br/>\n",
    "<b>Антипаттерн: </b> нарушение стиля кода <a href=\"https://www.python.org/dev/peps/pep-0008/\">PEP8</a>\n",
    " <br/>\n",
    "</div>"
   ]
  },
  {
   "cell_type": "code",
   "execution_count": 2,
   "metadata": {
    "slideshow": {
     "slide_type": "fragment"
    }
   },
   "outputs": [
    {
     "name": "stdout",
     "output_type": "stream",
     "text": [
      "[3, 4, 8]\n"
     ]
    }
   ],
   "source": [
    "a = [3, 2, 8, 4, 3, 7]\n",
    "b = [2, 7, 1, 9, 5]\n",
    "c = []\n",
    "# не стоит использовать i, j не для индексов\n",
    "for i in a:\n",
    "    for j in b:\n",
    "        if j==i:\n",
    "            c.append(i)\n",
    "            d=list(set(a) - set(c))\n",
    "            d.sort()\n",
    "            break\n",
    "print(d)"
   ]
  },
  {
   "cell_type": "markdown",
   "metadata": {
    "slideshow": {
     "slide_type": "subslide"
    }
   },
   "source": [
    "<div class=\"alert alert-danger\">\n",
    "<b>Антипаттерн: </b> избыточное использование индекса вместо элементов списка<br/>\n",
    " <br/>\n",
    "</div>"
   ]
  },
  {
   "cell_type": "code",
   "execution_count": 11,
   "metadata": {
    "slideshow": {
     "slide_type": "fragment"
    }
   },
   "outputs": [],
   "source": [
    "elements = [1, 2, 3]\n",
    "\n",
    "result = []\n",
    "for i in range(len(elements)):\n",
    "    result.append(elements[i] ** 2)\n",
    "\n",
    "result = []\n",
    "for element in elements:\n",
    "    result.append(element ** 2)\n"
   ]
  },
  {
   "cell_type": "markdown",
   "metadata": {
    "slideshow": {
     "slide_type": "subslide"
    }
   },
   "source": [
    "<div class=\"alert alert-danger\">\n",
    "<b>Антипаттерн: </b> увеличение сложности по времени на ровном месте\n",
    "</div>"
   ]
  },
  {
   "cell_type": "code",
   "execution_count": 8,
   "metadata": {
    "slideshow": {
     "slide_type": "fragment"
    }
   },
   "outputs": [],
   "source": [
    "import typing as tp\n",
    "\n",
    "\n",
    "def merge(a: tp.Sequence[int], b: tp.Sequence[int]) -> tp.List[int]:\n",
    "    \"\"\"\n",
    "    Merge two sorted lists in one sorted list\n",
    "    :param a: first sorted list\n",
    "    :param b: second sorted list\n",
    "    :return: merged sorted list\n",
    "    \"\"\"\n",
    "    new_list = []\n",
    "    d = a + b\n",
    "    while d:\n",
    "# сложность O(3n**2), хотя решается за O(n)\n",
    "        new_list.append(d.pop(d.index(min(d))))\n",
    "    return new_list"
   ]
  },
  {
   "cell_type": "markdown",
   "metadata": {
    "slideshow": {
     "slide_type": "subslide"
    }
   },
   "source": [
    "<div class=\"alert alert-danger\">\n",
    "<b>Антипаттерн: </b> использование исключений для правильно работающей программы\n",
    "</div>"
   ]
  },
  {
   "cell_type": "code",
   "execution_count": 14,
   "metadata": {
    "slideshow": {
     "slide_type": "fragment"
    }
   },
   "outputs": [],
   "source": [
    "def get_first_three_index(elements: tp.List[int]) -> tp.Optional[int]:\n",
    "    \"\"\"\n",
    "    :param elements: list with integer values\n",
    "    :return: index of first \"3\" in the list if exists, None otherwise\n",
    "    \"\"\"\n",
    "    try:\n",
    "        return elements.index(3)\n",
    "    except ValueError:\n",
    "        return None\n"
   ]
  },
  {
   "cell_type": "markdown",
   "metadata": {
    "slideshow": {
     "slide_type": "subslide"
    }
   },
   "source": [
    "<div class=\"alert alert-danger\">\n",
    "<b>Антипаттерн: </b> избыточные внешние скобки в if\n",
    "</div>"
   ]
  },
  {
   "cell_type": "code",
   "execution_count": 13,
   "metadata": {
    "slideshow": {
     "slide_type": "fragment"
    }
   },
   "outputs": [],
   "source": [
    "def get_middle_value(a: int, b: int, c: int) -> int:\n",
    "# лишние внешние скобки, усложнение логики неравенств\n",
    "    if ((a>=b and a<=c) or (a>=c and a<=b)):\n",
    "        return a\n",
    "    elif ((b>=a and b<=c) or (b>=c and b<=a)):\n",
    "        return b\n",
    "    else:\n",
    "        return c\n"
   ]
  },
  {
   "cell_type": "markdown",
   "metadata": {
    "slideshow": {
     "slide_type": "subslide"
    }
   },
   "source": [
    "<div class=\"alert alert-danger\">\n",
    "<b>Антипаттерн: </b> проверка пустоты списка через его длину\n",
    "</div>"
   ]
  },
  {
   "cell_type": "code",
   "execution_count": null,
   "metadata": {
    "slideshow": {
     "slide_type": "fragment"
    }
   },
   "outputs": [],
   "source": [
    "if len(elements)==0:\n",
    "    return None\n",
    "\n",
    "# more pythonic way\n",
    "if not elements:\n",
    "    return None\n"
   ]
  },
  {
   "cell_type": "markdown",
   "metadata": {
    "slideshow": {
     "slide_type": "subslide"
    }
   },
   "source": [
    "<div class=\"alert alert-danger\">\n",
    "<b>Антипаттерн: </b> трудночитаемый, непонятный код\n",
    "</div>"
   ]
  },
  {
   "cell_type": "code",
   "execution_count": null,
   "metadata": {
    "slideshow": {
     "slide_type": "fragment"
    }
   },
   "outputs": [],
   "source": [
    "# какая задача решается ниже?\n",
    "    sub_copy = list(map(lambda x: x - target, nums))\n",
    "    res = [0, 0]\n",
    "    for el in sub_copy:\n",
    "        if el * (-1) in nums:\n",
    "            if sub_copy.index(el) != nums.index(el * (-1)):\n",
    "                res[0],  res[1] = sub_copy.index(el), nums.index(el * (-1))\n",
    "                return res\n",
    "\n",
    "            else:\n",
    "                if nums.index(el * (-1)) < len(nums) - 1:\n",
    "                    for clubs in (nums.index(el * (-1)) + 1, len(nums) - 1):\n",
    "                        if el * (-1) == nums[clubs]:\n",
    "                            res[0],  res[1] = sub_copy.index(el), clubs\n",
    "                            return res\n",
    "              \n",
    "    return None\n"
   ]
  },
  {
   "cell_type": "markdown",
   "metadata": {
    "slideshow": {
     "slide_type": "subslide"
    }
   },
   "source": [
    "<div class=\"alert alert-danger\">\n",
    "<b>Антипаттерн: </b> неговорящие имена переменных\n",
    "</div>"
   ]
  },
  {
   "cell_type": "code",
   "execution_count": 19,
   "metadata": {
    "cell_style": "split",
    "slideshow": {
     "slide_type": "fragment"
    }
   },
   "outputs": [],
   "source": [
    "nums = [1, 2, 3]\n",
    "\n",
    "# Less readable\n",
    "hash_table = dict()\n",
    "for i in range(len(nums)):\n",
    "    if nums[i] in hash_table:\n",
    "        pass\n",
    "\n",
    "# more readable\n",
    "supplement_to_index = {}\n",
    "for i in range(len(nums)):\n",
    "    if nums[i] in supplement_to_index:\n",
    "        pass\n"
   ]
  },
  {
   "cell_type": "markdown",
   "metadata": {
    "slideshow": {
     "slide_type": "subslide"
    }
   },
   "source": [
    "<div class=\"alert alert-danger\">\n",
    "<b>Антипаттерн: </b> писать лишние скобки\n",
    "</div>"
   ]
  },
  {
   "cell_type": "code",
   "execution_count": null,
   "metadata": {
    "cell_style": "split",
    "slideshow": {
     "slide_type": "fragment"
    }
   },
   "outputs": [],
   "source": [
    "# Redundant symbols\n",
    "\n",
    "return (dict(d))"
   ]
  },
  {
   "cell_type": "code",
   "execution_count": null,
   "metadata": {
    "cell_style": "split",
    "slideshow": {
     "slide_type": "fragment"
    }
   },
   "outputs": [],
   "source": [
    "# Clean return\n",
    "\n",
    "return dict(d)"
   ]
  },
  {
   "cell_type": "markdown",
   "metadata": {
    "slideshow": {
     "slide_type": "subslide"
    }
   },
   "source": [
    "<div class=\"alert alert-danger\">\n",
    "<b>Антипаттерн: </b> пренебрежение компрехеншенами \n",
    "</div>"
   ]
  },
  {
   "cell_type": "code",
   "execution_count": null,
   "metadata": {
    "cell_style": "split",
    "slideshow": {
     "slide_type": "fragment"
    }
   },
   "outputs": [],
   "source": [
    "# Difficult initialization\n",
    "\n",
    "result = dict.fromkeys(dct.values())\n",
    "for key in result.keys():\n",
    "    result[key] = []"
   ]
  },
  {
   "cell_type": "code",
   "execution_count": null,
   "metadata": {
    "cell_style": "split",
    "slideshow": {
     "slide_type": "fragment"
    }
   },
   "outputs": [],
   "source": [
    "# Comprehension\n",
    "\n",
    "result = {value: [] for value in dct.values()}\n"
   ]
  },
  {
   "cell_type": "markdown",
   "metadata": {
    "slideshow": {
     "slide_type": "subslide"
    }
   },
   "source": [
    "<div class=\"alert alert-danger\">\n",
    "<b>Антипаттерн: </b> не использование not in\n",
    "</div>"
   ]
  },
  {
   "cell_type": "code",
   "execution_count": null,
   "metadata": {
    "cell_style": "split",
    "slideshow": {
     "slide_type": "fragment"
    }
   },
   "outputs": [],
   "source": [
    "# not (x in y)\n",
    "\n",
    "if not (value in result):\n",
    "    result[value] = []"
   ]
  },
  {
   "cell_type": "code",
   "execution_count": null,
   "metadata": {
    "cell_style": "split",
    "slideshow": {
     "slide_type": "fragment"
    }
   },
   "outputs": [],
   "source": [
    "# x not in y\n",
    "\n",
    "if value not in result:\n",
    "    result[value] = []"
   ]
  },
  {
   "cell_type": "markdown",
   "metadata": {
    "slideshow": {
     "slide_type": "subslide"
    }
   },
   "source": [
    "<div class=\"alert alert-danger\">\n",
    "<b>Антипаттерн: </b> лишнее создание объектов\n",
    "</div>"
   ]
  },
  {
   "cell_type": "code",
   "execution_count": null,
   "metadata": {
    "cell_style": "split",
    "slideshow": {
     "slide_type": "fragment"
    }
   },
   "outputs": [],
   "source": [
    "# With redundant list creation\n",
    "\n",
    "if value in res:\n",
    "    res[value] += [key]\n",
    "else:\n",
    "    res[value] = [key]"
   ]
  },
  {
   "cell_type": "code",
   "execution_count": null,
   "metadata": {
    "cell_style": "split",
    "slideshow": {
     "slide_type": "fragment"
    }
   },
   "outputs": [],
   "source": [
    "# Better\n",
    "\n",
    "if value in res:\n",
    "    res[value].append(key)\n",
    "else:\n",
    "    res[value] = [key]"
   ]
  },
  {
   "cell_type": "markdown",
   "metadata": {
    "slideshow": {
     "slide_type": "subslide"
    }
   },
   "source": [
    "<div class=\"alert alert-danger\">\n",
    "<b>Антипаттерн: </b> сравнивание с пустым списком <br/>\n",
    "</div>"
   ]
  },
  {
   "cell_type": "code",
   "execution_count": null,
   "metadata": {
    "cell_style": "split",
    "slideshow": {
     "slide_type": "fragment"
    }
   },
   "outputs": [],
   "source": [
    "# Less pythonic compare with empty list\n",
    "\n",
    "if l == []:\n",
    "    return 0"
   ]
  },
  {
   "cell_type": "markdown",
   "metadata": {
    "slideshow": {
     "slide_type": "subslide"
    }
   },
   "source": [
    "<div class=\"alert alert-danger\">\n",
    "<b>Антипаттерн: </b> сравнивание длины с нулем <br/>\n",
    "</div>"
   ]
  },
  {
   "cell_type": "code",
   "execution_count": null,
   "metadata": {
    "cell_style": "split",
    "slideshow": {
     "slide_type": "fragment"
    }
   },
   "outputs": [],
   "source": [
    "# Less pythonic compare len with zero\n",
    "\n",
    "if len(l) == 0:\n",
    "    return 0"
   ]
  },
  {
   "cell_type": "code",
   "execution_count": null,
   "metadata": {
    "cell_style": "split",
    "slideshow": {
     "slide_type": "fragment"
    }
   },
   "outputs": [],
   "source": [
    "# More pythonic boolean implicit conversion property\n",
    "\n",
    "if not l:\n",
    "    return 0"
   ]
  },
  {
   "cell_type": "markdown",
   "metadata": {
    "slideshow": {
     "slide_type": "slide"
    }
   },
   "source": [
    "<div class=\"alert alert-warning\">\n",
    "Решение 1_middle_value_of_triple\n",
    "</div>"
   ]
  },
  {
   "cell_type": "code",
   "execution_count": 28,
   "metadata": {
    "slideshow": {
     "slide_type": "fragment"
    }
   },
   "outputs": [],
   "source": [
    "# Pythonic version\n",
    "def get_middle_value(a: int, b: int, c: int) -> int:\n",
    "    \"\"\"\n",
    "    Takes three values and returns middle value\n",
    "    \"\"\"\n",
    "    return a + b + c - min(a, b, c) - max(a, b, c)\n",
    "\n",
    "\n",
    "# Logical expressions version\n",
    "def get_middle_value2(a: int, b: int, c: int) -> int:\n",
    "    \"\"\"\n",
    "    Takes three values and returns middle value\n",
    "    \"\"\"\n",
    "    if a <= b:\n",
    "        if b <= c:\n",
    "            return b\n",
    "        if c <= a:\n",
    "            return a\n",
    "    else:\n",
    "        if a <= c:\n",
    "            return a\n",
    "        if c <= b:\n",
    "            return b\n",
    "\n",
    "    return c\n"
   ]
  },
  {
   "cell_type": "markdown",
   "metadata": {
    "slideshow": {
     "slide_type": "subslide"
    }
   },
   "source": [
    "<div class=\"alert alert-warning\">\n",
    "Решение 2_fizz_buzz\n",
    "</div>"
   ]
  },
  {
   "cell_type": "code",
   "execution_count": 29,
   "metadata": {
    "slideshow": {
     "slide_type": "fragment"
    }
   },
   "outputs": [],
   "source": [
    "import typing as tp\n",
    "\n",
    "\n",
    "def get_fizz_buzz(n: int) -> tp.List[tp.Union[int, str]]:\n",
    "    \"\"\"\n",
    "    If value divided by 3 - \"Fizz\",\n",
    "       value divided by 5 - \"Buzz\",\n",
    "       value divided by 15 -  \"FizzBuzz\",\n",
    "    else - value.\n",
    "    :param n: size of sequence\n",
    "    :return: list of values.\n",
    "    \"\"\"\n",
    "    fizz_buzz_list: tp.List[tp.Union[int, str]] = []\n",
    "\n",
    "    for i in range(1, n + 1):\n",
    "        if i % 15 == 0:\n",
    "            fizz_buzz_list.append(\"FizzBuzz\")\n",
    "            continue\n",
    "        if i % 3 == 0:\n",
    "            fizz_buzz_list.append(\"Fizz\")\n",
    "            continue\n",
    "        if i % 5 == 0:\n",
    "            fizz_buzz_list.append(\"Buzz\")\n",
    "            continue\n",
    "        fizz_buzz_list.append(i)\n",
    "\n",
    "    return fizz_buzz_list\n"
   ]
  },
  {
   "cell_type": "markdown",
   "metadata": {
    "slideshow": {
     "slide_type": "subslide"
    }
   },
   "source": [
    "<div class=\"alert alert-warning\">\n",
    "Классное решение 2_fizz_buzz\n",
    "</div>"
   ]
  },
  {
   "cell_type": "code",
   "execution_count": null,
   "metadata": {
    "slideshow": {
     "slide_type": "fragment"
    }
   },
   "outputs": [],
   "source": [
    "import typing as tp\n",
    "\n",
    "\n",
    "def get_fizz_buzz(n: int) -> tp.List[tp.Union[int, str]]:\n",
    "    \"\"\"\n",
    "    If value divided by 3 - \"Fizz\",\n",
    "       value divided by 5 - \"Buzz\",\n",
    "       value divided by 15 -  \"FizzBuzz\",\n",
    "    else - value.\n",
    "    :param n: size of sequence\n",
    "    :return: list of values.\n",
    "    \"\"\"\n",
    "    fblist = []\n",
    "    \n",
    "    for num in range(1, n + 1):\n",
    "        fb = ''\n",
    "        if num % 3 == 0:\n",
    "            fb += 'Fizz'\n",
    "        if num % 5 == 0:\n",
    "            fb += 'Buzz'\n",
    "        if not fb:\n",
    "            fb = num\n",
    "        fblist.append(fb)\n",
    "    \n",
    "    return fblist\n"
   ]
  },
  {
   "cell_type": "markdown",
   "metadata": {
    "slideshow": {
     "slide_type": "subslide"
    }
   },
   "source": [
    "<div class=\"alert alert-warning\">\n",
    "Решение 3_iterate_me\n",
    "</div>"
   ]
  },
  {
   "cell_type": "code",
   "execution_count": null,
   "metadata": {},
   "outputs": [],
   "source": [
    "import typing as tp\n",
    "\n",
    "\n",
    "def get_squares(elements: tp.List[int]) -> tp.List[int]:\n",
    "    \"\"\"\n",
    "    :param elements: list with integer values\n",
    "    :return: list with squared values\n",
    "    \"\"\"\n",
    "    squared_list = []\n",
    "    for element in elements:\n",
    "        squared_list.append(element ** 2)\n",
    "\n",
    "    return squared_list\n",
    "\n",
    "\n",
    "# ====================================================================================================\n",
    "\n",
    "\n",
    "def get_indices_from_one(elements: tp.List[int]) -> tp.List[int]:\n",
    "    \"\"\"\n",
    "    :param elements: list with integer values\n",
    "    :return: list with indices started from 1\n",
    "    \"\"\"\n",
    "    return list(range(1, len(elements) + 1))\n",
    "\n",
    "\n",
    "# ====================================================================================================\n",
    "\n",
    "\n",
    "def get_max_element_index(elements: tp.List[int]) -> tp.Optional[int]:\n",
    "    \"\"\"\n",
    "    :param elements: list with integer values\n",
    "    :return: index of maximum element if exists, None otherwise\n",
    "    \"\"\"\n",
    "    max_element = float('-inf')\n",
    "    max_index = None\n",
    "\n",
    "    for i, value in enumerate(elements):\n",
    "        if value > max_element:\n",
    "            max_element = value\n",
    "            max_index = i\n",
    "\n",
    "    return max_index\n",
    "\n",
    "\n",
    "# Alternative realization\n",
    "def get_max_element_index_while(elements: tp.List[int]) -> tp.Optional[int]:\n",
    "    \"\"\"\n",
    "    :param elements: list with integer values\n",
    "    :return: index of maximum element if exists, None otherwise\n",
    "    \"\"\"\n",
    "    max_element = float('-inf')\n",
    "    max_index = None\n",
    "    current_index = 0\n",
    "\n",
    "    while current_index < len(elements):\n",
    "        if elements[current_index] > max_element:\n",
    "            max_element = elements[current_index]\n",
    "            max_index = current_index\n",
    "        current_index += 1\n",
    "\n",
    "    return max_index\n",
    "\n",
    "\n",
    "# Alternative realization\n",
    "def get_max_element_index_range(elements: tp.List[int]) -> tp.Optional[int]:\n",
    "    \"\"\"\n",
    "    :param elements: list with integer values\n",
    "    :return: index of maximum element if exists, None otherwise\n",
    "    \"\"\"\n",
    "    if not elements:\n",
    "        return None\n",
    "\n",
    "    max_element = elements[0]\n",
    "    max_index = 0\n",
    "\n",
    "    for i in range(1, len(elements)):\n",
    "        if elements[i] > max_element:\n",
    "            max_element = elements[i]\n",
    "            max_index = i\n",
    "\n",
    "    return max_index\n",
    "\n",
    "\n",
    "# ====================================================================================================\n",
    "\n",
    "\n",
    "def get_every_second_element(elements: tp.List[int]) -> tp.List[int]:\n",
    "    \"\"\"\n",
    "    :param elements: list with integer values\n",
    "    :return: list with each second element of list\n",
    "    \"\"\"\n",
    "    counter = 1\n",
    "    result = []\n",
    "\n",
    "    while counter < len(elements):\n",
    "        result.append(elements[counter])\n",
    "        counter += 2\n",
    "\n",
    "    return result\n",
    "\n",
    "\n",
    "# ====================================================================================================\n",
    "\n",
    "\n",
    "def get_first_three_index(elements: tp.List[int]) -> tp.Optional[int]:\n",
    "    \"\"\"\n",
    "    :param elements: list with integer values\n",
    "    :return: index of first \"3\" in the list if exists, None otherwise\n",
    "    \"\"\"\n",
    "    for i, value in enumerate(elements):\n",
    "        if value == 3:\n",
    "            return i\n",
    "\n",
    "    return None\n",
    "\n",
    "\n",
    "# ====================================================================================================\n",
    "\n",
    "\n",
    "def get_last_three_index(elements: tp.List[int]) -> tp.Optional[int]:\n",
    "    \"\"\"\n",
    "    :param elements: list with integer values\n",
    "    :return: index of last \"3\" in the list if exists, None otherwise\n",
    "    \"\"\"\n",
    "    for i, value in enumerate(reversed(elements)):\n",
    "        if value == 3:\n",
    "            return len(elements) - 1 - i\n",
    "\n",
    "    return None\n",
    "\n",
    "\n",
    "# Alternative realization\n",
    "def get_last_three_index_range(elements: tp.List[int]) -> tp.Optional[int]:\n",
    "    \"\"\"\n",
    "    :param elements: list with integer values\n",
    "    :return: index of last \"3\" in the list if exists, None otherwise\n",
    "    \"\"\"\n",
    "    for i in range(len(elements) - 1, -1, -1):\n",
    "        if elements[i] == 3:\n",
    "            return i\n",
    "\n",
    "    return None\n",
    "\n",
    "\n",
    "# Alternative realization\n",
    "def get_last_three_index_while(elements: tp.List[int]) -> tp.Optional[int]:\n",
    "    \"\"\"\n",
    "    :param elements: list with integer values\n",
    "    :return: index of last \"3\" in the list if exists, None otherwise\n",
    "    \"\"\"\n",
    "    current_index = len(elements) - 1\n",
    "\n",
    "    while current_index >= 0:\n",
    "        if elements[current_index] == 3:\n",
    "            return current_index\n",
    "        current_index = current_index - 1\n",
    "\n",
    "    return None\n"
   ]
  },
  {
   "cell_type": "markdown",
   "metadata": {
    "slideshow": {
     "slide_type": "subslide"
    }
   },
   "source": [
    "<div class=\"alert alert-warning\">\n",
    "Решение 4_reverse_list\n",
    "</div>"
   ]
  },
  {
   "cell_type": "code",
   "execution_count": null,
   "metadata": {},
   "outputs": [],
   "source": [
    "import typing as tp\n",
    "\n",
    "\n",
    "def reverse(a: tp.Sequence[int]) -> tp.List[int]:\n",
    "    \"\"\"\n",
    "    Return reversed list. You can use only iteration\n",
    "    :param a: input list\n",
    "    :return: reversed list\n",
    "    \"\"\"\n",
    "    iter_a = len(a) - 1\n",
    "    c = []\n",
    "\n",
    "    while iter_a >= 0:\n",
    "        c.append(a[iter_a])\n",
    "        iter_a -= 1\n",
    "\n",
    "    return c\n",
    "\n",
    "\n",
    "def reverse_inplace(a: tp.MutableSequence[int]) -> None:\n",
    "    \"\"\"\n",
    "    Revert list inplace. You can use only iteration\n",
    "    :param a: input list\n",
    "    :return: None\n",
    "    \"\"\"\n",
    "    iter_a = 0\n",
    "\n",
    "    while iter_a != len(a) // 2:\n",
    "        a[iter_a], a[len(a) - iter_a - 1] = a[len(a) - iter_a - 1], a[iter_a]\n",
    "        iter_a += 1\n"
   ]
  },
  {
   "cell_type": "markdown",
   "metadata": {
    "slideshow": {
     "slide_type": "subslide"
    }
   },
   "source": [
    "<div class=\"alert alert-warning\">\n",
    "Решение 5_merge_lists\n",
    "</div>"
   ]
  },
  {
   "cell_type": "code",
   "execution_count": null,
   "metadata": {},
   "outputs": [],
   "source": [
    "import typing as tp\n",
    "\n",
    "\n",
    "def merge(a: tp.Sequence[int], b: tp.Sequence[int]) -> tp.List[int]:\n",
    "    \"\"\"\n",
    "    Merge two sorted lists in one sorted list\n",
    "    :param a: first sorted list\n",
    "    :param b: second sorted list\n",
    "    :return: merged sorted list\n",
    "    \"\"\"\n",
    "    iter_a = 0\n",
    "    iter_b = 0\n",
    "    c = []\n",
    "\n",
    "    while iter_a != len(a) and iter_b != len(b):\n",
    "        if a[iter_a] > b[iter_b]:\n",
    "            c.append(b[iter_b])\n",
    "            iter_b += 1\n",
    "        elif a[iter_a] <= b[iter_b]:\n",
    "            c.append(a[iter_a])\n",
    "            iter_a += 1\n",
    "\n",
    "    while iter_a != len(a):\n",
    "        c.append(a[iter_a])\n",
    "        iter_a += 1\n",
    "\n",
    "    while iter_b != len(b):\n",
    "        c.append(b[iter_b])\n",
    "        iter_b += 1\n",
    "\n",
    "    return c\n"
   ]
  },
  {
   "cell_type": "markdown",
   "metadata": {
    "slideshow": {
     "slide_type": "subslide"
    }
   },
   "source": [
    "<div class=\"alert alert-warning\">\n",
    "Решение 6_filter_list_by_list\n",
    "</div>"
   ]
  },
  {
   "cell_type": "code",
   "execution_count": null,
   "metadata": {},
   "outputs": [],
   "source": [
    "import typing as tp\n",
    "\n",
    "\n",
    "def filter_list_by_list(a: tp.Sequence[int], b: tp.Sequence[int]) -> tp.List[int]:\n",
    "    \"\"\"\n",
    "    Filter first sorted lists by other sorted list\n",
    "    :param a: first sorted list\n",
    "    :param b: second sorted list\n",
    "    :return: filtered sorted list\n",
    "    \"\"\"\n",
    "    iter_a = 0\n",
    "    iter_b = 0\n",
    "    c = []\n",
    "\n",
    "    while iter_a != len(a) and iter_b != len(b):\n",
    "        if a[iter_a] > b[iter_b]:\n",
    "            iter_b += 1\n",
    "        elif a[iter_a] == b[iter_b]:\n",
    "            iter_a += 1\n",
    "        elif a[iter_a] < b[iter_b]:\n",
    "            c.append(a[iter_a])\n",
    "            iter_a += 1\n",
    "\n",
    "    while iter_a != len(a):\n",
    "        c.append(a[iter_a])\n",
    "        iter_a += 1\n",
    "\n",
    "    return c\n"
   ]
  },
  {
   "cell_type": "markdown",
   "metadata": {
    "slideshow": {
     "slide_type": "subslide"
    }
   },
   "source": [
    "<div class=\"alert alert-warning\">\n",
    "Решение 7_two_sum\n",
    "</div>"
   ]
  },
  {
   "cell_type": "code",
   "execution_count": null,
   "metadata": {},
   "outputs": [],
   "source": [
    "def two_sum(nums: tp.Sequence[int], target: int) -> tp.List[int]:\n",
    "    \"\"\"\n",
    "    Takes a list of integers, return indices of the two numbers\n",
    "    such that they add up to a specific target.\n",
    "    You may assume that each input would have exactly one solution,\n",
    "    and you may not use the same element twice.\n",
    "    :param nums: list of integers\n",
    "    :param target: specific target\n",
    "    :return: list of the two indices\n",
    "    \"\"\"\n",
    "    if nums:\n",
    "        value_to_ind = {target - nums[0]: 0}\n",
    "        for i in range(1, len(nums)):\n",
    "            if nums[i] in value_to_ind:\n",
    "                return [value_to_ind[nums[i]] , i]\n",
    "            else:\n",
    "                value_to_ind[target - nums[i]] = i\n",
    "    raise Exception('No two sum solution')\n"
   ]
  },
  {
   "cell_type": "markdown",
   "metadata": {
    "slideshow": {
     "slide_type": "subslide"
    }
   },
   "source": [
    "<div class=\"alert alert-warning\">\n",
    "Решение 8_bin_basic\n",
    "</div>"
   ]
  },
  {
   "cell_type": "code",
   "execution_count": null,
   "metadata": {},
   "outputs": [],
   "source": [
    "import typing as tp\n",
    "\n",
    "\n",
    "def find_value(nums: tp.Sequence[int], value: int) -> bool:\n",
    "    \"\"\"\n",
    "    Find value in sorted sequence\n",
    "    :param nums: sequence of integers. Could be empty\n",
    "    :param value: integer to find\n",
    "    :return: True if value exists, False otherwise\n",
    "    \"\"\"\n",
    "    start_index = 0\n",
    "    end_index = len(nums)\n",
    "    while start_index != end_index:\n",
    "        mid_index = (start_index + end_index) // 2\n",
    "        mid_value = nums[mid_index]\n",
    "        if mid_value == value:\n",
    "            return True\n",
    "        if mid_value < value:\n",
    "            start_index = mid_index + 1\n",
    "        else:\n",
    "            end_index = mid_index\n",
    "    return False\n",
    "\n",
    "\n",
    "# Pythonic inappropriate\n",
    "def find_value_straightforward(nums: tp.Sequence[int], value: int) -> bool:\n",
    "    return value in nums\n"
   ]
  },
  {
   "cell_type": "markdown",
   "metadata": {
    "slideshow": {
     "slide_type": "subslide"
    }
   },
   "source": [
    "<div class=\"alert alert-warning\">\n",
    "Решение 9_bin_tricky\n",
    "</div>"
   ]
  },
  {
   "cell_type": "code",
   "execution_count": null,
   "metadata": {},
   "outputs": [],
   "source": [
    "import typing as tp\n",
    "\n",
    "\n",
    "def find_median(nums1: tp.Sequence[int], nums2: tp.Sequence[int]) -> float:\n",
    "    \"\"\"\n",
    "    Find median of two sorted sequences. At least one of sequences should be not empty.\n",
    "    :param nums1: sorted sequence of integers\n",
    "    :param nums2: sorted sequence of integers\n",
    "    :return: middle value if sum of sequences' lengths is odd\n",
    "             average of two middle values if sum of sequences' lengths is even\n",
    "    \"\"\"\n",
    "    if len(nums1) > len(nums2):\n",
    "        nums1, nums2 = nums2, nums1\n",
    "\n",
    "    m = len(nums1)\n",
    "    n = len(nums2)\n",
    "\n",
    "    start_index = 0\n",
    "    end_index = len(nums1)\n",
    "\n",
    "    while start_index <= end_index:\n",
    "        i = (start_index + end_index) // 2\n",
    "        j = (m + n) // 2 - i\n",
    "\n",
    "        if i > 0 and j < len(nums2) and nums1[i - 1] > nums2[j]:\n",
    "            end_index = i\n",
    "            continue\n",
    "\n",
    "        if j > 0 and i < len(nums1) and nums2[j - 1] > nums1[i]:\n",
    "            start_index = i + 1\n",
    "            continue\n",
    "\n",
    "        if i == len(nums1):\n",
    "            right_part = nums2[j]\n",
    "        elif j == len(nums2):\n",
    "            right_part = nums1[i]\n",
    "        else:\n",
    "            right_part = min(nums2[j], nums1[i])\n",
    "\n",
    "        if (len(nums1) + len(nums2)) % 2 == 1:\n",
    "            return float(right_part)\n",
    "\n",
    "        if i == 0:\n",
    "            left_part = nums2[j - 1]\n",
    "        elif j == 0:\n",
    "            left_part = nums1[i - 1]\n",
    "        else:\n",
    "            left_part = max(nums1[i - 1], nums2[j - 1])\n",
    "\n",
    "        if (len(nums1) + len(nums2)) % 2 == 1:\n",
    "            return float(left_part)\n",
    "\n",
    "        return (left_part + right_part) / 2\n",
    "\n",
    "    assert False, \"Not reachable\"\n"
   ]
  }
 ],
 "metadata": {
  "celltoolbar": "Slideshow",
  "kernelspec": {
   "display_name": "Python 3",
   "language": "python",
   "name": "python3"
  },
  "language_info": {
   "codemirror_mode": {
    "name": "ipython",
    "version": 3
   },
   "file_extension": ".py",
   "mimetype": "text/x-python",
   "name": "python",
   "nbconvert_exporter": "python",
   "pygments_lexer": "ipython3",
   "version": "3.7.6"
  }
 },
 "nbformat": 4,
 "nbformat_minor": 2
}
