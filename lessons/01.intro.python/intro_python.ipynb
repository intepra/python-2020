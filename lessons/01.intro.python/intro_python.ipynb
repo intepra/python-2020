{
 "cells": [
  {
   "cell_type": "markdown",
   "metadata": {
    "slideshow": {
     "slide_type": "slide"
    }
   },
   "source": [
    "<div align=\"left\">\n",
    "    <img src=\"images/logo_ismc_spbu.jpg\" alt=\"logo_ismc_spbu\" />\n",
    "</div>\n",
    "\n",
    "# Введение в программирование на Python \n",
    "\n",
    "### Занятие 1. Знакомство с курсом и языком\n",
    "\n",
    "<br />\n",
    "<br />\n",
    "Александр Авдюшенко <br />\n",
    "3 сентября 2020"
   ]
  },
  {
   "cell_type": "markdown",
   "metadata": {
    "slideshow": {
     "slide_type": "subslide"
    }
   },
   "source": [
    "![Monty Python](images/monty_python.jpg)"
   ]
  },
  {
   "cell_type": "markdown",
   "metadata": {
    "slideshow": {
     "slide_type": "subslide"
    }
   },
   "source": [
    "### Основные цели\n",
    "\n",
    "* сделать первый шаг, после которого можно продолжить самостоятельное изучение\n",
    "* изучить основные особенности Python, его отличия от других языков программирования\n",
    "* учиться писать качественный код на Python\n",
    "* познакомиться с типичными задачами собеседований в IT компании и их решениями\n"
   ]
  },
  {
   "cell_type": "markdown",
   "metadata": {
    "slideshow": {
     "slide_type": "subslide"
    }
   },
   "source": [
    "### Темы\n",
    "\n",
    "* Введение. Базовые типы, условия, циклы. Структуры данных и их представление в памяти\n",
    "* Функции, ввод-вывод, строки, файлы\n",
    "* Неймспейсы, замыкания, декораторы\n",
    "* Пример подготовки даных и обучения градиентного бустинга на Python  \n"
   ]
  },
  {
   "cell_type": "markdown",
   "metadata": {
    "slideshow": {
     "slide_type": "slide"
    }
   },
   "source": [
    "## Язык Python\n",
    " * легко [начать использовать](https://colab.research.google.com/)\n",
    " * free and open source\n",
    " * (почти) portable\n",
    " * высокоуровневый\n",
    " * интерпретируемый, а не компилируемый\n",
    " * REPL = read eval print loop"
   ]
  },
  {
   "cell_type": "markdown",
   "metadata": {
    "slideshow": {
     "slide_type": "subslide"
    }
   },
   "source": [
    "<div align=\"center\">\n",
    "    <img src=\"images/python_interpretation.jpg\" alt=\"Python interpretation\" />\n",
    "</div>"
   ]
  },
  {
   "cell_type": "markdown",
   "metadata": {
    "slideshow": {
     "slide_type": "subslide"
    }
   },
   "source": [
    "<div align=\"center\">\n",
    "    <img src=\"images/python_after_cpp.jpg\" alt=\"Python after C++\" />\n",
    "</div>"
   ]
  },
  {
   "cell_type": "code",
   "execution_count": 1,
   "metadata": {
    "slideshow": {
     "slide_type": "slide"
    }
   },
   "outputs": [
    {
     "name": "stdout",
     "output_type": "stream",
     "text": [
      "1\n",
      "4\n",
      "16\n"
     ]
    }
   ],
   "source": [
    "# обратите внимание на отступы — это часть синтаксиса\n",
    "# они выделяют вложенные блоки кода\n",
    "for i in range(5):\n",
    "    if not (i % 3 == 0):\n",
    "        print(i ** 2)"
   ]
  },
  {
   "cell_type": "markdown",
   "metadata": {
    "slideshow": {
     "slide_type": "subslide"
    }
   },
   "source": [
    "### Ещё пример\n",
    "Писать на Python — будто писать псевдокод\n",
    "$$e^x=\\sum_{k=0}^\\infty \\frac{1}{k!}x^k$$"
   ]
  },
  {
   "cell_type": "code",
   "execution_count": 2,
   "metadata": {
    "slideshow": {
     "slide_type": "fragment"
    }
   },
   "outputs": [],
   "source": [
    "def e(x):\n",
    "    sum_, k, term = 1, 0, 1\n",
    "    while True:\n",
    "        # like return, but creates generator object\n",
    "        yield sum_\n",
    "        k += 1\n",
    "        term *= x / k\n",
    "        sum_ += term"
   ]
  },
  {
   "cell_type": "code",
   "execution_count": 3,
   "metadata": {
    "slideshow": {
     "slide_type": "subslide"
    }
   },
   "outputs": [],
   "source": [
    "x = 1\n",
    "gen_e_x = e(x)"
   ]
  },
  {
   "cell_type": "code",
   "execution_count": 4,
   "metadata": {
    "slideshow": {
     "slide_type": "fragment"
    }
   },
   "outputs": [
    {
     "data": {
      "text/plain": [
       "[1, 2.0, 2.5, 2.6666666666666665, 2.708333333333333]"
      ]
     },
     "execution_count": 4,
     "metadata": {},
     "output_type": "execute_result"
    }
   ],
   "source": [
    "[next(gen_e_x) for _ in range(5)]"
   ]
  },
  {
   "cell_type": "code",
   "execution_count": 5,
   "metadata": {
    "slideshow": {
     "slide_type": "fragment"
    }
   },
   "outputs": [
    {
     "data": {
      "text/plain": [
       "[2.7166666666666663,\n",
       " 2.7180555555555554,\n",
       " 2.7182539682539684,\n",
       " 2.71827876984127,\n",
       " 2.7182815255731922]"
      ]
     },
     "execution_count": 5,
     "metadata": {},
     "output_type": "execute_result"
    }
   ],
   "source": [
    "[next(gen_e_x) for _ in range(5)]"
   ]
  },
  {
   "cell_type": "markdown",
   "metadata": {
    "slideshow": {
     "slide_type": "slide"
    }
   },
   "source": [
    "# Всё в Питоне — это объект"
   ]
  },
  {
   "cell_type": "markdown",
   "metadata": {
    "slideshow": {
     "slide_type": "slide"
    }
   },
   "source": [
    "### У любого объекта\n",
    "* **id** — где лежит (~адрес в памяти)\n",
    "* **type** — множество значений и операций над этими значениями\n",
    "* **value** — значение"
   ]
  },
  {
   "cell_type": "code",
   "execution_count": 6,
   "metadata": {
    "slideshow": {
     "slide_type": "fragment"
    }
   },
   "outputs": [
    {
     "data": {
      "text/plain": [
       "(140703595602320, 2647426611120)"
      ]
     },
     "execution_count": 6,
     "metadata": {},
     "output_type": "execute_result"
    }
   ],
   "source": [
    "id(1), id('1')"
   ]
  },
  {
   "cell_type": "code",
   "execution_count": 7,
   "metadata": {
    "slideshow": {
     "slide_type": "fragment"
    }
   },
   "outputs": [
    {
     "data": {
      "text/plain": [
       "(int, str)"
      ]
     },
     "execution_count": 7,
     "metadata": {},
     "output_type": "execute_result"
    }
   ],
   "source": [
    "type(1), type('1') "
   ]
  },
  {
   "cell_type": "code",
   "execution_count": 8,
   "metadata": {
    "slideshow": {
     "slide_type": "subslide"
    }
   },
   "outputs": [],
   "source": [
    "a = 1\n",
    "b = 1"
   ]
  },
  {
   "cell_type": "code",
   "execution_count": 9,
   "metadata": {
    "slideshow": {
     "slide_type": "fragment"
    }
   },
   "outputs": [
    {
     "data": {
      "text/plain": [
       "(True, True, True)"
      ]
     },
     "execution_count": 9,
     "metadata": {},
     "output_type": "execute_result"
    }
   ],
   "source": [
    "id(a) == id(1), id(a) == id(b), type(a) == type(1)"
   ]
  },
  {
   "cell_type": "code",
   "execution_count": 10,
   "metadata": {
    "slideshow": {
     "slide_type": "fragment"
    }
   },
   "outputs": [
    {
     "data": {
      "text/plain": [
       "(False, False, True)"
      ]
     },
     "execution_count": 10,
     "metadata": {},
     "output_type": "execute_result"
    }
   ],
   "source": [
    "a, b = 257, 257\n",
    "id(a) == id(257), id(a) == id(b), type(a) == type(1)"
   ]
  },
  {
   "cell_type": "code",
   "execution_count": 11,
   "metadata": {
    "slideshow": {
     "slide_type": "fragment"
    }
   },
   "outputs": [
    {
     "data": {
      "text/plain": [
       "False"
      ]
     },
     "execution_count": 11,
     "metadata": {},
     "output_type": "execute_result"
    }
   ],
   "source": [
    "a is b # equivalent to id(a) == id(b)"
   ]
  },
  {
   "cell_type": "markdown",
   "metadata": {
    "slideshow": {
     "slide_type": "subslide"
    }
   },
   "source": [
    "## [Size of int in the Python](https://www.quora.com/How-many-bytes-does-an-integer-data-occupy-in-the-Python-language)"
   ]
  },
  {
   "cell_type": "markdown",
   "metadata": {
    "slideshow": {
     "slide_type": "fragment"
    }
   },
   "source": [
    "Как думаете, сколько памяти занимает int? <br />\n",
    "Вообще 1 бит это 0 или 1, <br />\n",
    "1 байт = 8 бит, и это уже от 0 до 255 <br />\n",
    "\n",
    "Может быть в зависимости от платформы <br />\n",
    "4 байта (32 бита) или <br />\n",
    "8 байт (64 бита)?"
   ]
  },
  {
   "cell_type": "code",
   "execution_count": 3,
   "metadata": {
    "slideshow": {
     "slide_type": "subslide"
    }
   },
   "outputs": [
    {
     "name": "stdout",
     "output_type": "stream",
     "text": [
      "Size of int in Python\n",
      "0 — 24 bytes\n",
      "1 — 28 bytes\n",
      "10000000000 — 32 bytes\n",
      "100000000000 — 32 bytes\n",
      "100000000000000000000000000000000000000000000000000 — 48 bytes\n"
     ]
    }
   ],
   "source": [
    "# давайте проверим!\n",
    "import sys\n",
    "\n",
    "def print_sizeof(x):\n",
    "    return f'{x} — {sys.getsizeof(x)} bytes'\n",
    "\n",
    "print('\\n'.join(['Size of int in Python'] + \n",
    "          [print_sizeof(x) for x in (0, 1, 10**10, 10**11, 10**50)]))"
   ]
  },
  {
   "cell_type": "markdown",
   "metadata": {
    "slideshow": {
     "slide_type": "subslide"
    }
   },
   "source": [
    "## Почему так много и [не одинаково](https://stackoverflow.com/questions/10365624/sys-getsizeofint-returns-an-unreasonably-large-value)?"
   ]
  },
  {
   "cell_type": "code",
   "execution_count": 13,
   "metadata": {
    "slideshow": {
     "slide_type": "fragment"
    }
   },
   "outputs": [
    {
     "data": {
      "text/plain": [
       "True"
      ]
     },
     "execution_count": 13,
     "metadata": {},
     "output_type": "execute_result"
    }
   ],
   "source": [
    "isinstance(1, object)"
   ]
  },
  {
   "cell_type": "markdown",
   "metadata": {
    "slideshow": {
     "slide_type": "fragment"
    }
   },
   "source": [
    "[cpython open source realization](https://github.com/python/cpython/blob/ba85d69a3e3610bdd05f0dd372cf4ebca178c7fb/Include/longintrepr.h#L70)\n",
    "```c++\n",
    "struct _longobject {\n",
    "    // macros with\n",
    "    // 1. the object’s reference count (8 bytes) \n",
    "    // 2. and a pointer to the corresponding type object (8 bytes)\n",
    "    // 3. and extension field ob_size (8 bytes) \n",
    "    PyObject_VAR_HEAD \n",
    "    // int value adds 0, 4 or 8 bytes \n",
    "    digit ob_digit[1]; \n",
    "};\n",
    "```"
   ]
  },
  {
   "cell_type": "code",
   "execution_count": 14,
   "metadata": {
    "slideshow": {
     "slide_type": "subslide"
    }
   },
   "outputs": [
    {
     "data": {
      "text/plain": [
       "['bit_length',\n",
       " 'conjugate',\n",
       " 'denominator',\n",
       " 'from_bytes',\n",
       " 'imag',\n",
       " 'numerator',\n",
       " 'real',\n",
       " 'to_bytes']"
      ]
     },
     "execution_count": 14,
     "metadata": {},
     "output_type": "execute_result"
    }
   ],
   "source": [
    "[method for method in dir(1) if not method.startswith('__')]"
   ]
  },
  {
   "cell_type": "code",
   "execution_count": 15,
   "metadata": {
    "slideshow": {
     "slide_type": "subslide"
    }
   },
   "outputs": [
    {
     "name": "stdout",
     "output_type": "stream",
     "text": [
      "Size of objects in Python\n",
      "0.0 — 24 bytes\n",
      "1.0 — 24 bytes\n",
      "\n",
      "a — 50 bytes\n",
      "aa — 51 bytes\n",
      "aaa — 52 bytes\n",
      "\n",
      "[] — 64 bytes\n",
      "['a'] — 72 bytes\n",
      "['a', 'aaa'] — 80 bytes\n",
      "\n",
      "() — 48 bytes\n",
      "('a',) — 56 bytes\n",
      "('a', 'aaa') — 64 bytes\n",
      "\n",
      "set() — 224 bytes\n",
      "{'a'} — 224 bytes\n",
      "\n",
      "{} — 240 bytes\n",
      "{1: 'a'} — 240 bytes\n",
      "\n"
     ]
    }
   ],
   "source": [
    "print('\\n'.join(['Size of objects in Python'] + \n",
    "        [print_sizeof(x) for x in (0.0, 1.0)] + [''] +\n",
    "        [print_sizeof(x) for x in (\"a\", \"aa\", \"aaa\")] + [''] +\n",
    "        [print_sizeof(x) for x in (list(), [\"a\"], [\"a\", \"aaa\"])] + [''] +\n",
    "        [print_sizeof(x) for x in (tuple(), (\"a\",), (\"a\", \"aaa\"))] + [''] +\n",
    "        [print_sizeof(x) for x in (set(), {\"a\"})] + [''] +\n",
    "        [print_sizeof(x) for x in (dict(), {1: \"a\"})] + ['']))"
   ]
  },
  {
   "cell_type": "markdown",
   "metadata": {
    "slideshow": {
     "slide_type": "subslide"
    }
   },
   "source": [
    "Словари (dict) и множества (set) в Python реализованы как hash-таблицы, [подробности тут](https://stackoverflow.com/questions/327311/how-are-pythons-built-in-dictionaries-implemented)."
   ]
  },
  {
   "cell_type": "markdown",
   "metadata": {
    "slideshow": {
     "slide_type": "fragment"
    }
   },
   "source": [
    "| index | slot |\n",
    "| :----: | :---------------: |\n",
    "| 0 | <hash\\|key\\|value> |\n",
    "| 1 | ... |\n",
    "| . | ... |\n",
    "| i | ... |\n",
    "| . | ... |\n",
    "| n | ... |"
   ]
  },
  {
   "cell_type": "markdown",
   "metadata": {
    "slideshow": {
     "slide_type": "slide"
    }
   },
   "source": [
    " ## Язык Python\n",
    " * мультипарадигменный (объектно-ориентированный, функциональный)\n",
    " * «батарейки в комплекте» (богатая стандартная библиотека)\n",
    " * PEP (python enhanced proposal), [новое в Python 3.8](https://docs.python.org/3/whatsnew/3.8.html)\n",
    " * строгая динамическая типизация*"
   ]
  },
  {
   "cell_type": "markdown",
   "metadata": {
    "slideshow": {
     "slide_type": "slide"
    }
   },
   "source": [
    "## Куайн (квайн, англ. quine) \n",
    "Компьютерная программа, которая выдаёт на выходе точную копию своего исходного текста. <br />\n",
    "При этом программы, использующие внешние данные (чтение текста программы из файла, ввод его с клавиатуры и так далее), куайнами не считаются."
   ]
  },
  {
   "cell_type": "code",
   "execution_count": 16,
   "metadata": {
    "slideshow": {
     "slide_type": "fragment"
    }
   },
   "outputs": [
    {
     "name": "stdout",
     "output_type": "stream",
     "text": [
      "_='_=%r;print (_%%_)';print (_%_)\n"
     ]
    }
   ],
   "source": [
    "_='_=%r;print (_%%_)';print (_%_)"
   ]
  },
  {
   "cell_type": "markdown",
   "metadata": {
    "slideshow": {
     "slide_type": "slide"
    }
   },
   "source": [
    "### Задача 7 из первого домашнего задания. \n",
    "**Сумма двух.** На входе список целых чисел и заданное целое число. Нужно вернуть индексы двух чисел из списка, сумма которых равна заданному числу. \n",
    "\n",
    "Предполагается, что есть ровно одно решение и нельзя использовать один и то же элемент дважды."
   ]
  },
  {
   "cell_type": "code",
   "execution_count": 17,
   "metadata": {
    "slideshow": {
     "slide_type": "subslide"
    }
   },
   "outputs": [
    {
     "name": "stdout",
     "output_type": "stream",
     "text": [
      "Writing two_sum_tests.py\n"
     ]
    }
   ],
   "source": [
    "%%writefile two_sum_tests.py\n",
    "\n",
    "def two_sum(nums, target):\n",
    "    ans = [0, 1]\n",
    "    return ans\n",
    "\n",
    "def test_sorted():\n",
    "    nums = [2, 7, 11, 15]\n",
    "    target = 9\n",
    "    expected = [0, 1]\n",
    "    output = two_sum(nums, target)\n",
    "    assert output == expected\n",
    "    \n",
    "def test_not_sorted():\n",
    "    nums = [2, -7, 11, 15]\n",
    "    target = 4\n",
    "    expected = [1, 2]\n",
    "    output = two_sum(nums, target)\n",
    "    assert output == expected"
   ]
  },
  {
   "cell_type": "code",
   "execution_count": 18,
   "metadata": {
    "slideshow": {
     "slide_type": "subslide"
    }
   },
   "outputs": [
    {
     "name": "stdout",
     "output_type": "stream",
     "text": [
      "============================= test session starts =============================\n",
      "platform win32 -- Python 3.7.6, pytest-5.3.5, py-1.8.1, pluggy-0.13.1\n",
      "rootdir: C:\\\n",
      "plugins: hypothesis-5.5.4, arraydiff-0.3, astropy-header-0.1.2, doctestplus-0.5.0, openfiles-0.4.0, remotedata-0.3.2\n",
      "collected 2 items\n",
      "\n",
      "two_sum_tests.py .F                                                      [100%]\n",
      "\n",
      "================================== FAILURES ===================================\n",
      "_______________________________ test_not_sorted _______________________________\n",
      "\n",
      "    def test_not_sorted():\n",
      "        nums = [2, -7, 11, 15]\n",
      "        target = 4\n",
      "        expected = [1, 2]\n",
      "        output = two_sum(nums, target)\n",
      ">       assert output == expected\n",
      "E       assert [0, 1] == [1, 2]\n",
      "E         At index 0 diff: 0 != 1\n",
      "E         Use -v to get the full diff\n",
      "\n",
      "C:\\cygwin64\\home\\avalur\\ismc\\python-2020-main\\lessons\\01.intro.python\\two_sum_tests.py:18: AssertionError\n",
      "========================= 1 failed, 1 passed in 0.07s =========================\n"
     ]
    }
   ],
   "source": [
    "!pytest two_sum_tests.py"
   ]
  },
  {
   "cell_type": "markdown",
   "metadata": {
    "slideshow": {
     "slide_type": "slide"
    }
   },
   "source": [
    "[Репозиторий курса на Гитхабе](https://github.com/ismc-spbu-courses/python-2020)\n",
    "\n",
    "Спасибо за внимание, всё на сегодня."
   ]
  }
 ],
 "metadata": {
  "celltoolbar": "Slideshow",
  "kernelspec": {
   "display_name": "Python 3",
   "language": "python",
   "name": "python3"
  },
  "language_info": {
   "codemirror_mode": {
    "name": "ipython",
    "version": 3
   },
   "file_extension": ".py",
   "mimetype": "text/x-python",
   "name": "python",
   "nbconvert_exporter": "python",
   "pygments_lexer": "ipython3",
   "version": "3.7.6"
  }
 },
 "nbformat": 4,
 "nbformat_minor": 2
}
